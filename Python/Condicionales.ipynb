{
 "cells": [
  {
   "cell_type": "markdown",
   "metadata": {},
   "source": [
    "## Condicionales"
   ]
  },
  {
   "cell_type": "markdown",
   "metadata": {},
   "source": [
    "Segmentos de código que se ejecutan dependiendo el resultado de una operación booleana"
   ]
  },
  {
   "cell_type": "markdown",
   "metadata": {},
   "source": [
    "### Estructura"
   ]
  },
  {
   "cell_type": "markdown",
   "metadata": {},
   "source": [
    "``` python\n",
    "if (condición 1):\n",
    "  bloque código 1\n",
    "elif (condición 2):\n",
    "  bloque código 2 \n",
    "...\n",
    "elif (condición n):\n",
    "  bloque código n\n",
    "else:\n",
    "  bloque de código n\n",
    "\n",
    "```"
   ]
  },
  {
   "cell_type": "markdown",
   "metadata": {},
   "source": [
    "### Ejemplo:"
   ]
  },
  {
   "cell_type": "code",
   "execution_count": 5,
   "metadata": {},
   "outputs": [
    {
     "name": "stdout",
     "output_type": "stream",
     "text": [
      "Viernes\n"
     ]
    }
   ],
   "source": [
    "numero_dia_semana =  5 \n",
    "\n",
    "if numero_dia_semana == 1:\n",
    "    print(\"Lunes\")\n",
    "elif numero_dia_semana == 2:\n",
    "    print(\"Martes\")\n",
    "elif numero_dia_semana == 3:\n",
    "    print(\"Miercoles\")\n",
    "elif numero_dia_semana == 4:\n",
    "    print(\"Jueves\")\n",
    "elif numero_dia_semana == 5:\n",
    "    print(\"Viernes\")\n",
    "elif numero_dia_semana == 6:\n",
    "    print(\"Sábado\")\n",
    "elif numero_dia_semana == 7:\n",
    "    print(\"Domingo\")\n",
    "else: \n",
    "    print(\"Número no valido\")"
   ]
  },
  {
   "cell_type": "markdown",
   "metadata": {},
   "source": [
    "### Instrucción 'pass'"
   ]
  },
  {
   "cell_type": "markdown",
   "metadata": {},
   "source": [
    "Bloque de código vacio "
   ]
  },
  {
   "cell_type": "code",
   "execution_count": 6,
   "metadata": {},
   "outputs": [
    {
     "name": "stdout",
     "output_type": "stream",
     "text": [
      "Él número es mayor a 10\n"
     ]
    }
   ],
   "source": [
    "numero = 20\n",
    "if numero < 10:\n",
    "    pass\n",
    "elif numero < 10:\n",
    "    pass\n",
    "else:\n",
    "    print(\"Él número es mayor a 10\")"
   ]
  },
  {
   "cell_type": "markdown",
   "metadata": {},
   "source": [
    "### Condicionales anidados"
   ]
  },
  {
   "cell_type": "code",
   "execution_count": 7,
   "metadata": {},
   "outputs": [
    {
     "name": "stdout",
     "output_type": "stream",
     "text": [
      "Viernes\n"
     ]
    }
   ],
   "source": [
    "numero_dia_semana =  5 \n",
    "\n",
    "if numero_dia_semana >= 1  and numero_dia_semana <= 7:\n",
    "    if numero_dia_semana == 1:\n",
    "        print(\"Lunes\")\n",
    "    elif numero_dia_semana == 2:\n",
    "        print(\"Martes\")\n",
    "    elif numero_dia_semana == 3:\n",
    "        print(\"Miercoles\")\n",
    "    elif numero_dia_semana == 4:\n",
    "        print(\"Jueves\")\n",
    "    elif numero_dia_semana == 5:\n",
    "        print(\"Viernes\")\n",
    "    elif numero_dia_semana == 6:\n",
    "        print(\"Sábado\")\n",
    "    elif numero_dia_semana == 7:\n",
    "        print(\"Domingo\")\n",
    "    else:\n",
    "        pass\n",
    "else: \n",
    "    print(\"Número no valido\")"
   ]
  },
  {
   "cell_type": "markdown",
   "metadata": {},
   "source": [
    "### Condicionales con conversión en el condicional"
   ]
  },
  {
   "cell_type": "code",
   "execution_count": 9,
   "metadata": {},
   "outputs": [
    {
     "name": "stdout",
     "output_type": "stream",
     "text": [
      "1 es impar\n"
     ]
    }
   ],
   "source": [
    "numero = 1\n",
    "if numero % 2:\n",
    "    print(f\"{numero} es impar\")\n",
    "else:\n",
    "    print(f\"{numero} es par\")"
   ]
  }
 ],
 "metadata": {
  "kernelspec": {
   "display_name": "Python 3",
   "language": "python",
   "name": "python3"
  },
  "language_info": {
   "codemirror_mode": {
    "name": "ipython",
    "version": 3
   },
   "file_extension": ".py",
   "mimetype": "text/x-python",
   "name": "python",
   "nbconvert_exporter": "python",
   "pygments_lexer": "ipython3",
   "version": "3.12.1"
  }
 },
 "nbformat": 4,
 "nbformat_minor": 2
}
